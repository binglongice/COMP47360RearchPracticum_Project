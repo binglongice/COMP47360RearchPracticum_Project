{
 "cells": [
  {
   "attachments": {},
   "cell_type": "markdown",
   "metadata": {},
   "source": [
    "# Using the predictions\n",
    "\n",
    "We now have a .parquet with predictions for every hour for a year for each LocationID\n",
    "\n",
    "We will normalise these predictions and store these normalised predictions in a new parquet file\n",
    "\n",
    "We may also join with coordinations for each LocationID, though this may not be strictly neccessary at this stage"
   ]
  },
  {
   "cell_type": "code",
   "execution_count": 11,
   "metadata": {},
   "outputs": [],
   "source": [
    "import pandas as pd\n",
    "\n",
    "predictions = pd.read_parquet('predictions_datetime.parquet')"
   ]
  },
  {
   "cell_type": "code",
   "execution_count": 12,
   "metadata": {},
   "outputs": [
    {
     "data": {
      "text/plain": "        location_id  hour  day  month  week_of_year  prediction  \\\n0                 4     0    1      7            30          58   \n1                12     0    1      7            30           1   \n2                13     0    1      7            30          39   \n3                24     0    1      7            30          63   \n4                41     0    1      7            30         155   \n...             ...   ...  ...    ...           ...         ...   \n579805          246     0    3      7            30         327   \n579806          249     0    3      7            30        1072   \n579807          261     0    3      7            30         233   \n579808          262     0    3      7            30          99   \n579809          263     0    3      7            30         245   \n\n                   datetime  \n0       2023-07-25 00:00:00  \n1       2023-07-25 00:00:00  \n2       2023-07-25 00:00:00  \n3       2023-07-25 00:00:00  \n4       2023-07-25 00:00:00  \n...                     ...  \n579805  2024-07-25 00:00:00  \n579806  2024-07-25 00:00:00  \n579807  2024-07-25 00:00:00  \n579808  2024-07-25 00:00:00  \n579809  2024-07-25 00:00:00  \n\n[579810 rows x 7 columns]",
      "text/html": "<div>\n<style scoped>\n    .dataframe tbody tr th:only-of-type {\n        vertical-align: middle;\n    }\n\n    .dataframe tbody tr th {\n        vertical-align: top;\n    }\n\n    .dataframe thead th {\n        text-align: right;\n    }\n</style>\n<table border=\"1\" class=\"dataframe\">\n  <thead>\n    <tr style=\"text-align: right;\">\n      <th></th>\n      <th>location_id</th>\n      <th>hour</th>\n      <th>day</th>\n      <th>month</th>\n      <th>week_of_year</th>\n      <th>prediction</th>\n      <th>datetime</th>\n    </tr>\n  </thead>\n  <tbody>\n    <tr>\n      <th>0</th>\n      <td>4</td>\n      <td>0</td>\n      <td>1</td>\n      <td>7</td>\n      <td>30</td>\n      <td>58</td>\n      <td>2023-07-25 00:00:00</td>\n    </tr>\n    <tr>\n      <th>1</th>\n      <td>12</td>\n      <td>0</td>\n      <td>1</td>\n      <td>7</td>\n      <td>30</td>\n      <td>1</td>\n      <td>2023-07-25 00:00:00</td>\n    </tr>\n    <tr>\n      <th>2</th>\n      <td>13</td>\n      <td>0</td>\n      <td>1</td>\n      <td>7</td>\n      <td>30</td>\n      <td>39</td>\n      <td>2023-07-25 00:00:00</td>\n    </tr>\n    <tr>\n      <th>3</th>\n      <td>24</td>\n      <td>0</td>\n      <td>1</td>\n      <td>7</td>\n      <td>30</td>\n      <td>63</td>\n      <td>2023-07-25 00:00:00</td>\n    </tr>\n    <tr>\n      <th>4</th>\n      <td>41</td>\n      <td>0</td>\n      <td>1</td>\n      <td>7</td>\n      <td>30</td>\n      <td>155</td>\n      <td>2023-07-25 00:00:00</td>\n    </tr>\n    <tr>\n      <th>...</th>\n      <td>...</td>\n      <td>...</td>\n      <td>...</td>\n      <td>...</td>\n      <td>...</td>\n      <td>...</td>\n      <td>...</td>\n    </tr>\n    <tr>\n      <th>579805</th>\n      <td>246</td>\n      <td>0</td>\n      <td>3</td>\n      <td>7</td>\n      <td>30</td>\n      <td>327</td>\n      <td>2024-07-25 00:00:00</td>\n    </tr>\n    <tr>\n      <th>579806</th>\n      <td>249</td>\n      <td>0</td>\n      <td>3</td>\n      <td>7</td>\n      <td>30</td>\n      <td>1072</td>\n      <td>2024-07-25 00:00:00</td>\n    </tr>\n    <tr>\n      <th>579807</th>\n      <td>261</td>\n      <td>0</td>\n      <td>3</td>\n      <td>7</td>\n      <td>30</td>\n      <td>233</td>\n      <td>2024-07-25 00:00:00</td>\n    </tr>\n    <tr>\n      <th>579808</th>\n      <td>262</td>\n      <td>0</td>\n      <td>3</td>\n      <td>7</td>\n      <td>30</td>\n      <td>99</td>\n      <td>2024-07-25 00:00:00</td>\n    </tr>\n    <tr>\n      <th>579809</th>\n      <td>263</td>\n      <td>0</td>\n      <td>3</td>\n      <td>7</td>\n      <td>30</td>\n      <td>245</td>\n      <td>2024-07-25 00:00:00</td>\n    </tr>\n  </tbody>\n</table>\n<p>579810 rows × 7 columns</p>\n</div>"
     },
     "execution_count": 12,
     "metadata": {},
     "output_type": "execute_result"
    }
   ],
   "source": [
    "predictions"
   ]
  },
  {
   "cell_type": "code",
   "execution_count": 13,
   "metadata": {},
   "outputs": [],
   "source": [
    "# # Normalize the predictions using Min-Max scaling\n",
    "# predictions['normalised_prediction'] = (predictions['prediction'] - predictions['prediction'].min()) / (predictions['prediction'].max() - predictions['prediction'].min())\n",
    "# predictions"
   ]
  },
  {
   "cell_type": "code",
   "execution_count": 14,
   "metadata": {},
   "outputs": [],
   "source": [
    "# import pandas as pd\n",
    "\n",
    "# predictions = pd.read_parquet('predictions.parquet')\n",
    "\n",
    "# # Extract the minimum and maximum values\n",
    "# prediction_min = predictions['prediction'].min()\n",
    "# prediction_max = predictions['prediction'].max()\n",
    "\n",
    "# # Store the min and max values in variables for use in another Jupyter Notebook\n",
    "# min_value = prediction_min.item()\n",
    "# max_value = prediction_max.item()\n",
    "\n",
    "# # Print the normalized predictions\n",
    "# predictions['normalized_prediction'] = (predictions['prediction'] - min_value) / (max_value - min_value)\n",
    "# print(predictions)\n",
    "\n",
    "# # Store the min and max values in a separate DataFrame\n",
    "# min_max_values = pd.DataFrame({'min_value': [min_value], 'max_value': [max_value]})\n",
    "\n",
    "# # Save the min and max values to a file\n",
    "# min_max_values.to_csv('min_max_values.csv', index=False)\n"
   ]
  },
  {
   "cell_type": "code",
   "execution_count": 15,
   "metadata": {},
   "outputs": [],
   "source": [
    "# min_value"
   ]
  },
  {
   "cell_type": "code",
   "execution_count": 16,
   "metadata": {},
   "outputs": [],
   "source": [
    "# # Drop the 'prediction' column from the predictions DataFrame\n",
    "# predictions = predictions.drop('prediction', axis=1)\n",
    "# predictions"
   ]
  },
  {
   "cell_type": "code",
   "execution_count": 17,
   "metadata": {},
   "outputs": [],
   "source": [
    "# import pyarrow.parquet as pq\n",
    "# import pyarrow as pa\n",
    "\n",
    "# # Convert DataFrame to PyArrow Table\n",
    "# table = pa.Table.from_pandas(predictions)\n",
    "\n",
    "# # Write the Parquet file\n",
    "# pq.write_table(table, 'normalised_predictions.parquet')"
   ]
  },
  {
   "cell_type": "markdown",
   "metadata": {},
   "source": [
    "## Connecting to database"
   ]
  },
  {
   "cell_type": "code",
   "execution_count": 18,
   "metadata": {},
   "outputs": [],
   "source": [
    "# ensure datetime is stored as datetime in the db\n",
    "predictions['datetime'] = pd.to_datetime(predictions['datetime'])"
   ]
  },
  {
   "cell_type": "code",
   "execution_count": 19,
   "metadata": {},
   "outputs": [
    {
     "data": {
      "text/plain": "location_id              int64\nhour                     int64\nday                      int64\nmonth                    int64\nweek_of_year             int64\nprediction               int64\ndatetime        datetime64[ns]\ndtype: object"
     },
     "execution_count": 19,
     "metadata": {},
     "output_type": "execute_result"
    }
   ],
   "source": [
    "predictions.dtypes"
   ]
  },
  {
   "cell_type": "code",
   "execution_count": 20,
   "metadata": {},
   "outputs": [],
   "source": [
    "import pandas as pd\n",
    "from sqlalchemy import create_engine\n",
    "\n",
    "# Assuming you already have the predictions DataFrame\n",
    "\n",
    "# Set up the PostgreSQL connection\n",
    "database = 'cafes_manhattan'\n",
    "user = 'postgres'\n",
    "password = 'xiaoxin123'\n",
    "host = 'localhost'\n",
    "port = '5432'\n",
    "\n",
    "# Create the engine for connecting to the PostgreSQL server\n",
    "engine = create_engine(f'postgresql://{user}:{password}@{host}:{port}/{database}')\n",
    "\n",
    "# Store the DataFrame as a table in the PostgreSQL server\n",
    "table_name = 'predictions'\n",
    "predictions.to_sql(table_name, engine, if_exists='replace', index=False)\n",
    "\n",
    "# Close the database connection\n",
    "engine.dispose()\n"
   ]
  },
  {
   "cell_type": "code",
   "execution_count": 20,
   "outputs": [],
   "source": [],
   "metadata": {
    "collapsed": false
   }
  }
 ],
 "metadata": {
  "kernelspec": {
   "display_name": "summer",
   "language": "python",
   "name": "python3"
  },
  "language_info": {
   "codemirror_mode": {
    "name": "ipython",
    "version": 3
   },
   "file_extension": ".py",
   "mimetype": "text/x-python",
   "name": "python",
   "nbconvert_exporter": "python",
   "pygments_lexer": "ipython3",
   "version": "3.9.16"
  },
  "orig_nbformat": 4
 },
 "nbformat": 4,
 "nbformat_minor": 2
}
